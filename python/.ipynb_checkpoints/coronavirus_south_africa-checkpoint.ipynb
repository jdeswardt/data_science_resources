{
 "cells": [
  {
   "cell_type": "markdown",
   "metadata": {},
   "source": [
    "# GJ DE SWARDT\n",
    "# CORONAVIRUS IN SOUTH AFRICA"
   ]
  },
  {
   "cell_type": "markdown",
   "metadata": {},
   "source": [
    "# 1.) SETUP"
   ]
  },
  {
   "cell_type": "code",
   "execution_count": 2,
   "metadata": {},
   "outputs": [],
   "source": [
    "##Import libraries\n",
    "import pandas as pd\n",
    "import numpy as np\n",
    "import matplotlib.pyplot as plt"
   ]
  },
  {
   "cell_type": "markdown",
   "metadata": {},
   "source": [
    "# 2.) DATA"
   ]
  },
  {
   "cell_type": "code",
   "execution_count": 34,
   "metadata": {
    "scrolled": true
   },
   "outputs": [
    {
     "data": {
      "text/html": [
       "<div>\n",
       "<style scoped>\n",
       "    .dataframe tbody tr th:only-of-type {\n",
       "        vertical-align: middle;\n",
       "    }\n",
       "\n",
       "    .dataframe tbody tr th {\n",
       "        vertical-align: top;\n",
       "    }\n",
       "\n",
       "    .dataframe thead th {\n",
       "        text-align: right;\n",
       "    }\n",
       "</style>\n",
       "<table border=\"1\" class=\"dataframe\">\n",
       "  <thead>\n",
       "    <tr style=\"text-align: right;\">\n",
       "      <th></th>\n",
       "      <th>date</th>\n",
       "      <th>new_cases</th>\n",
       "      <th>new_recoveries</th>\n",
       "      <th>total_cases</th>\n",
       "      <th>total_recoveries</th>\n",
       "    </tr>\n",
       "  </thead>\n",
       "  <tbody>\n",
       "    <tr>\n",
       "      <td>0</td>\n",
       "      <td>05-MAR-20</td>\n",
       "      <td>1</td>\n",
       "      <td>0</td>\n",
       "      <td>1</td>\n",
       "      <td>0</td>\n",
       "    </tr>\n",
       "    <tr>\n",
       "      <td>1</td>\n",
       "      <td>06-MAR-20</td>\n",
       "      <td>0</td>\n",
       "      <td>0</td>\n",
       "      <td>1</td>\n",
       "      <td>0</td>\n",
       "    </tr>\n",
       "    <tr>\n",
       "      <td>2</td>\n",
       "      <td>07-MAR-20</td>\n",
       "      <td>1</td>\n",
       "      <td>0</td>\n",
       "      <td>2</td>\n",
       "      <td>0</td>\n",
       "    </tr>\n",
       "    <tr>\n",
       "      <td>3</td>\n",
       "      <td>08-MAR-20</td>\n",
       "      <td>1</td>\n",
       "      <td>0</td>\n",
       "      <td>3</td>\n",
       "      <td>0</td>\n",
       "    </tr>\n",
       "    <tr>\n",
       "      <td>4</td>\n",
       "      <td>09-MAR-20</td>\n",
       "      <td>4</td>\n",
       "      <td>0</td>\n",
       "      <td>7</td>\n",
       "      <td>0</td>\n",
       "    </tr>\n",
       "    <tr>\n",
       "      <td>5</td>\n",
       "      <td>10-MAR-20</td>\n",
       "      <td>0</td>\n",
       "      <td>0</td>\n",
       "      <td>7</td>\n",
       "      <td>0</td>\n",
       "    </tr>\n",
       "    <tr>\n",
       "      <td>6</td>\n",
       "      <td>11-MAR-20</td>\n",
       "      <td>6</td>\n",
       "      <td>0</td>\n",
       "      <td>13</td>\n",
       "      <td>0</td>\n",
       "    </tr>\n",
       "    <tr>\n",
       "      <td>7</td>\n",
       "      <td>12-MAR-20</td>\n",
       "      <td>3</td>\n",
       "      <td>0</td>\n",
       "      <td>16</td>\n",
       "      <td>0</td>\n",
       "    </tr>\n",
       "    <tr>\n",
       "      <td>8</td>\n",
       "      <td>13-MAR-20</td>\n",
       "      <td>8</td>\n",
       "      <td>0</td>\n",
       "      <td>24</td>\n",
       "      <td>0</td>\n",
       "    </tr>\n",
       "    <tr>\n",
       "      <td>9</td>\n",
       "      <td>14-MAR-20</td>\n",
       "      <td>14</td>\n",
       "      <td>0</td>\n",
       "      <td>38</td>\n",
       "      <td>0</td>\n",
       "    </tr>\n",
       "    <tr>\n",
       "      <td>10</td>\n",
       "      <td>15-MAR-20</td>\n",
       "      <td>13</td>\n",
       "      <td>0</td>\n",
       "      <td>51</td>\n",
       "      <td>0</td>\n",
       "    </tr>\n",
       "    <tr>\n",
       "      <td>11</td>\n",
       "      <td>16-MAR-20</td>\n",
       "      <td>11</td>\n",
       "      <td>0</td>\n",
       "      <td>62</td>\n",
       "      <td>0</td>\n",
       "    </tr>\n",
       "    <tr>\n",
       "      <td>12</td>\n",
       "      <td>17-MAR-20</td>\n",
       "      <td>23</td>\n",
       "      <td>0</td>\n",
       "      <td>85</td>\n",
       "      <td>0</td>\n",
       "    </tr>\n",
       "    <tr>\n",
       "      <td>13</td>\n",
       "      <td>18-MAR-20</td>\n",
       "      <td>31</td>\n",
       "      <td>0</td>\n",
       "      <td>116</td>\n",
       "      <td>0</td>\n",
       "    </tr>\n",
       "    <tr>\n",
       "      <td>14</td>\n",
       "      <td>19-MAR-20</td>\n",
       "      <td>34</td>\n",
       "      <td>0</td>\n",
       "      <td>150</td>\n",
       "      <td>0</td>\n",
       "    </tr>\n",
       "    <tr>\n",
       "      <td>15</td>\n",
       "      <td>20-MAR-20</td>\n",
       "      <td>52</td>\n",
       "      <td>0</td>\n",
       "      <td>202</td>\n",
       "      <td>0</td>\n",
       "    </tr>\n",
       "    <tr>\n",
       "      <td>16</td>\n",
       "      <td>21-MAR-20</td>\n",
       "      <td>38</td>\n",
       "      <td>0</td>\n",
       "      <td>240</td>\n",
       "      <td>0</td>\n",
       "    </tr>\n",
       "    <tr>\n",
       "      <td>17</td>\n",
       "      <td>22-MAR-20</td>\n",
       "      <td>34</td>\n",
       "      <td>1</td>\n",
       "      <td>274</td>\n",
       "      <td>1</td>\n",
       "    </tr>\n",
       "    <tr>\n",
       "      <td>18</td>\n",
       "      <td>23-MAR-20</td>\n",
       "      <td>128</td>\n",
       "      <td>0</td>\n",
       "      <td>402</td>\n",
       "      <td>1</td>\n",
       "    </tr>\n",
       "    <tr>\n",
       "      <td>19</td>\n",
       "      <td>24-MAR-20</td>\n",
       "      <td>152</td>\n",
       "      <td>1</td>\n",
       "      <td>554</td>\n",
       "      <td>2</td>\n",
       "    </tr>\n",
       "    <tr>\n",
       "      <td>20</td>\n",
       "      <td>25-MAR-20</td>\n",
       "      <td>155</td>\n",
       "      <td>2</td>\n",
       "      <td>709</td>\n",
       "      <td>4</td>\n",
       "    </tr>\n",
       "    <tr>\n",
       "      <td>21</td>\n",
       "      <td>26-MAR-20</td>\n",
       "      <td>218</td>\n",
       "      <td>0</td>\n",
       "      <td>927</td>\n",
       "      <td>4</td>\n",
       "    </tr>\n",
       "    <tr>\n",
       "      <td>22</td>\n",
       "      <td>27-MAR-20</td>\n",
       "      <td>243</td>\n",
       "      <td>27</td>\n",
       "      <td>1170</td>\n",
       "      <td>31</td>\n",
       "    </tr>\n",
       "    <tr>\n",
       "      <td>23</td>\n",
       "      <td>28-MAR-20</td>\n",
       "      <td>17</td>\n",
       "      <td>0</td>\n",
       "      <td>1187</td>\n",
       "      <td>31</td>\n",
       "    </tr>\n",
       "    <tr>\n",
       "      <td>24</td>\n",
       "      <td>29-MAR-20</td>\n",
       "      <td>93</td>\n",
       "      <td>0</td>\n",
       "      <td>1280</td>\n",
       "      <td>31</td>\n",
       "    </tr>\n",
       "    <tr>\n",
       "      <td>25</td>\n",
       "      <td>30-MAR-20</td>\n",
       "      <td>46</td>\n",
       "      <td>0</td>\n",
       "      <td>1326</td>\n",
       "      <td>31</td>\n",
       "    </tr>\n",
       "    <tr>\n",
       "      <td>26</td>\n",
       "      <td>31-MAR-20</td>\n",
       "      <td>27</td>\n",
       "      <td>0</td>\n",
       "      <td>1353</td>\n",
       "      <td>31</td>\n",
       "    </tr>\n",
       "    <tr>\n",
       "      <td>27</td>\n",
       "      <td>01-APR-20</td>\n",
       "      <td>27</td>\n",
       "      <td>0</td>\n",
       "      <td>1380</td>\n",
       "      <td>31</td>\n",
       "    </tr>\n",
       "    <tr>\n",
       "      <td>28</td>\n",
       "      <td>02-APR-20</td>\n",
       "      <td>82</td>\n",
       "      <td>14</td>\n",
       "      <td>1462</td>\n",
       "      <td>45</td>\n",
       "    </tr>\n",
       "    <tr>\n",
       "      <td>29</td>\n",
       "      <td>03-APR-20</td>\n",
       "      <td>43</td>\n",
       "      <td>0</td>\n",
       "      <td>1505</td>\n",
       "      <td>45</td>\n",
       "    </tr>\n",
       "    <tr>\n",
       "      <td>30</td>\n",
       "      <td>04-APR-20</td>\n",
       "      <td>80</td>\n",
       "      <td>0</td>\n",
       "      <td>1585</td>\n",
       "      <td>45</td>\n",
       "    </tr>\n",
       "  </tbody>\n",
       "</table>\n",
       "</div>"
      ],
      "text/plain": [
       "         date  new_cases  new_recoveries  total_cases  total_recoveries\n",
       "0   05-MAR-20          1               0            1                 0\n",
       "1   06-MAR-20          0               0            1                 0\n",
       "2   07-MAR-20          1               0            2                 0\n",
       "3   08-MAR-20          1               0            3                 0\n",
       "4   09-MAR-20          4               0            7                 0\n",
       "5   10-MAR-20          0               0            7                 0\n",
       "6   11-MAR-20          6               0           13                 0\n",
       "7   12-MAR-20          3               0           16                 0\n",
       "8   13-MAR-20          8               0           24                 0\n",
       "9   14-MAR-20         14               0           38                 0\n",
       "10  15-MAR-20         13               0           51                 0\n",
       "11  16-MAR-20         11               0           62                 0\n",
       "12  17-MAR-20         23               0           85                 0\n",
       "13  18-MAR-20         31               0          116                 0\n",
       "14  19-MAR-20         34               0          150                 0\n",
       "15  20-MAR-20         52               0          202                 0\n",
       "16  21-MAR-20         38               0          240                 0\n",
       "17  22-MAR-20         34               1          274                 1\n",
       "18  23-MAR-20        128               0          402                 1\n",
       "19  24-MAR-20        152               1          554                 2\n",
       "20  25-MAR-20        155               2          709                 4\n",
       "21  26-MAR-20        218               0          927                 4\n",
       "22  27-MAR-20        243              27         1170                31\n",
       "23  28-MAR-20         17               0         1187                31\n",
       "24  29-MAR-20         93               0         1280                31\n",
       "25  30-MAR-20         46               0         1326                31\n",
       "26  31-MAR-20         27               0         1353                31\n",
       "27  01-APR-20         27               0         1380                31\n",
       "28  02-APR-20         82              14         1462                45\n",
       "29  03-APR-20         43               0         1505                45\n",
       "30  04-APR-20         80               0         1585                45"
      ]
     },
     "execution_count": 34,
     "metadata": {},
     "output_type": "execute_result"
    }
   ],
   "source": [
    "##Create data \n",
    "data = {'date':['05-MAR-20', '06-MAR-20', '07-MAR-20', '08-MAR-20', '09-MAR-20', '10-MAR-20', '11-MAR-20', \n",
    "                '12-MAR-20', '13-MAR-20', '14-MAR-20', '15-MAR-20', '16-MAR-20', '17-MAR-20', '18-MAR-20', \n",
    "                '19-MAR-20', '20-MAR-20', '21-MAR-20', '22-MAR-20', '23-MAR-20', '24-MAR-20', '25-MAR-20', \n",
    "                '26-MAR-20', '27-MAR-20', '28-MAR-20', '29-MAR-20', '30-MAR-20', '31-MAR-20', '01-APR-20', \n",
    "                '02-APR-20', '03-APR-20', '04-APR-20'],\n",
    "        'new_cases':[1, 0, 1, 1, 4, 0, 6, 3, 8, 14, 13, 11, 23, 31, 34, 52, 38, 34, 128, 152, 155, 218, 243, 17, 93, \n",
    "                     46, 27, 27, 82, 43, 80],\n",
    "        'new_recoveries':[0, 0, 0, 0, 0, 0, 0, 0, 0, 0, 0, 0, 0, 0, 0, 0, 0, 1, 0, 1, 2, 0, 27, 0, 0, 0, 0, 0, 14, 0,\n",
    "                          0]} \n",
    "\n",
    "##Transform to dataframe \n",
    "df = pd.DataFrame(data)\n",
    "\n",
    "##Add a cumulative column to dataframe\n",
    "df['total_cases'] = df['new_cases'].cumsum()\n",
    "df['total_recoveries'] = df['new_recoveries'].cumsum()\n",
    "\n",
    "##Check dataframe\n",
    "df"
   ]
  },
  {
   "cell_type": "markdown",
   "metadata": {},
   "source": [
    "# 3.) VISUALIZE (MATPLOTLIB)"
   ]
  },
  {
   "cell_type": "code",
   "execution_count": 35,
   "metadata": {
    "scrolled": true
   },
   "outputs": [
    {
     "data": {
      "image/png": "[encoded data removed]",
      "text/plain": [
       "<Figure size 432x288 with 1 Axes>"
      ]
     },
     "metadata": {
      "needs_background": "light"
     },
     "output_type": "display_data"
    }
   ],
   "source": [
    "##Plot total cases\n",
    "plt.title('Total Cases (RSA)')\n",
    "plt.plot(df['date'], df['total_cases'])\n",
    "plt.xlabel('Date')\n",
    "plt.ylabel('Total Cases')\n",
    "plt.xticks(rotation='vertical')\n",
    "plt.show()"
   ]
  },
  {
   "cell_type": "code",
   "execution_count": 36,
   "metadata": {},
   "outputs": [
    {
     "data": {
      "image/png": "[encoded data removed]",
      "text/plain": [
       "<Figure size 432x288 with 1 Axes>"
      ]
     },
     "metadata": {
      "needs_background": "light"
     },
     "output_type": "display_data"
    }
   ],
   "source": [
    "##Plot total recoveries\n",
    "plt.title('Total Recoveries (RSA)')\n",
    "plt.plot(df['date'], df['total_recoveries'])\n",
    "plt.xlabel('Date')\n",
    "plt.ylabel('Total Recoveries')\n",
    "plt.xticks(rotation='vertical')\n",
    "plt.show()"
   ]
  },
  {
   "cell_type": "code",
   "execution_count": null,
   "metadata": {},
   "outputs": [],
   "source": [
    "##Next try to get total cases and total recoveries as two series on a single plot"
   ]
  },
  {
   "cell_type": "code",
   "execution_count": 37,
   "metadata": {},
   "outputs": [
    {
     "data": {
      "image/png": "[encoded data removed]",
      "text/plain": [
       "<Figure size 432x288 with 1 Axes>"
      ]
     },
     "metadata": {
      "needs_background": "light"
     },
     "output_type": "display_data"
    }
   ],
   "source": [
    "##Plot daily new cases\n",
    "plt.title('Daily New Cases (RSA)')\n",
    "plt.bar(df['date'], df['new_cases'])\n",
    "plt.xlabel('Date')\n",
    "plt.ylabel('New Cases')\n",
    "plt.xticks(rotation='vertical')\n",
    "plt.show()"
   ]
  },
  {
   "cell_type": "code",
   "execution_count": 31,
   "metadata": {},
   "outputs": [
    {
     "data": {
      "image/png": "[encoded data removed]",
      "text/plain": [
       "<Figure size 432x288 with 1 Axes>"
      ]
     },
     "metadata": {
      "needs_background": "light"
     },
     "output_type": "display_data"
    }
   ],
   "source": [
    "##Plot daily new recoveries\n",
    "plt.title('Daily New Recoveries (RSA)')\n",
    "plt.bar(df['date'], df['new_recoveries'])\n",
    "plt.xlabel('Date')\n",
    "plt.ylabel('New Recoveries')\n",
    "plt.xticks(rotation='vertical')\n",
    "plt.show()"
   ]
  },
  {
   "cell_type": "markdown",
   "metadata": {},
   "source": [
    "# 4.) VISUALIZE (SEABORN)"
   ]
  },
  {
   "cell_type": "code",
   "execution_count": null,
   "metadata": {},
   "outputs": [],
   "source": []
  },
  {
   "cell_type": "code",
   "execution_count": null,
   "metadata": {},
   "outputs": [],
   "source": []
  },
  {
   "cell_type": "code",
   "execution_count": null,
   "metadata": {},
   "outputs": [],
   "source": []
  },
  {
   "cell_type": "markdown",
   "metadata": {},
   "source": [
    "# 5.) VISUALIZE (PLOTLY EXPRESS)"
   ]
  }
 ],
 "metadata": {
  "kernelspec": {
   "display_name": "Python 3",
   "language": "python",
   "name": "python3"
  },
  "language_info": {
   "codemirror_mode": {
    "name": "ipython",
    "version": 3
   },
   "file_extension": ".py",
   "mimetype": "text/x-python",
   "name": "python",
   "nbconvert_exporter": "python",
   "pygments_lexer": "ipython3",
   "version": "3.7.4"
  }
 },
 "nbformat": 4,
 "nbformat_minor": 2
}
